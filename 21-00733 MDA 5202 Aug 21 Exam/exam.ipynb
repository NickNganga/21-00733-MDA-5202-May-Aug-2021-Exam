{
 "cells": [
  {
   "cell_type": "code",
   "execution_count": 2,
   "metadata": {},
   "outputs": [
    {
     "name": "stderr",
     "output_type": "stream",
     "text": [
      "C:\\Users\\nickn\\anaconda3\\lib\\site-packages\\IPython\\core\\interactiveshell.py:3165: DtypeWarning: Columns (4,5,6,11,16) have mixed types.Specify dtype option on import or set low_memory=False.\n",
      "  has_raised = await self.run_ast_nodes(code_ast.body, cell_name,\n"
     ]
    }
   ],
   "source": [
    "import pandas as pd\n",
    "import numpy as np\n",
    "\n",
    "df = pd.read_csv('rows.csv')\n",
    "\n",
    "df1 = df[['Product', 'Consumer complaint narrative', 'Company', 'State', 'Tags', 'Submitted via', 'Timely response?']].copy()"
   ]
  },
  {
   "cell_type": "code",
   "execution_count": 3,
   "metadata": {
    "pycharm": {
     "name": "#%%\n"
    }
   },
   "outputs": [
    {
     "data": {
      "text/html": [
       "<div>\n",
       "<style scoped>\n",
       "    .dataframe tbody tr th:only-of-type {\n",
       "        vertical-align: middle;\n",
       "    }\n",
       "\n",
       "    .dataframe tbody tr th {\n",
       "        vertical-align: top;\n",
       "    }\n",
       "\n",
       "    .dataframe thead th {\n",
       "        text-align: right;\n",
       "    }\n",
       "</style>\n",
       "<table border=\"1\" class=\"dataframe\">\n",
       "  <thead>\n",
       "    <tr style=\"text-align: right;\">\n",
       "      <th></th>\n",
       "      <th>0</th>\n",
       "      <th>1</th>\n",
       "    </tr>\n",
       "  </thead>\n",
       "  <tbody>\n",
       "    <tr>\n",
       "      <th>Product</th>\n",
       "      <td>Checking or savings account</td>\n",
       "      <td>Checking or savings account</td>\n",
       "    </tr>\n",
       "    <tr>\n",
       "      <th>Consumer complaint narrative</th>\n",
       "      <td>NaN</td>\n",
       "      <td>NaN</td>\n",
       "    </tr>\n",
       "    <tr>\n",
       "      <th>Company</th>\n",
       "      <td>NAVY FEDERAL CREDIT UNION</td>\n",
       "      <td>BOEING EMPLOYEES CREDIT UNION</td>\n",
       "    </tr>\n",
       "    <tr>\n",
       "      <th>State</th>\n",
       "      <td>FL</td>\n",
       "      <td>WA</td>\n",
       "    </tr>\n",
       "    <tr>\n",
       "      <th>Tags</th>\n",
       "      <td>Older American</td>\n",
       "      <td>NaN</td>\n",
       "    </tr>\n",
       "    <tr>\n",
       "      <th>Submitted via</th>\n",
       "      <td>Web</td>\n",
       "      <td>Referral</td>\n",
       "    </tr>\n",
       "    <tr>\n",
       "      <th>Timely response?</th>\n",
       "      <td>Yes</td>\n",
       "      <td>Yes</td>\n",
       "    </tr>\n",
       "  </tbody>\n",
       "</table>\n",
       "</div>"
      ],
      "text/plain": [
       "                                                        0  \\\n",
       "Product                       Checking or savings account   \n",
       "Consumer complaint narrative                          NaN   \n",
       "Company                         NAVY FEDERAL CREDIT UNION   \n",
       "State                                                  FL   \n",
       "Tags                                       Older American   \n",
       "Submitted via                                         Web   \n",
       "Timely response?                                      Yes   \n",
       "\n",
       "                                                          1  \n",
       "Product                         Checking or savings account  \n",
       "Consumer complaint narrative                            NaN  \n",
       "Company                       BOEING EMPLOYEES CREDIT UNION  \n",
       "State                                                    WA  \n",
       "Tags                                                    NaN  \n",
       "Submitted via                                      Referral  \n",
       "Timely response?                                        Yes  "
      ]
     },
     "execution_count": 3,
     "metadata": {},
     "output_type": "execute_result"
    }
   ],
   "source": [
    "# Columns are show in rows for easy reading\n",
    "df1.head(2).T"
   ]
  },
  {
   "cell_type": "code",
   "execution_count": 4,
   "metadata": {
    "pycharm": {
     "name": "#%%\n"
    }
   },
   "outputs": [],
   "source": [
    "# Removing missing values (NaN)\n",
    "df1 = df1[pd.notnull(df1['Consumer complaint narrative'])]\n",
    "df1 = df1[pd.notnull(df1['Tags'])]\n",
    "df1 = df1[pd.notnull(df1['State'])]"
   ]
  },
  {
   "cell_type": "code",
   "execution_count": 5,
   "metadata": {
    "pycharm": {
     "name": "#%%\n"
    }
   },
   "outputs": [],
   "source": [
    "# Renaming categories\n",
    "df1.replace({'Product':\n",
    "             {'Credit reporting, credit repair services, or other personal consumer reports':\n",
    "              'Credit reporting, repair, or other',\n",
    "              'Credit reporting': 'Credit reporting, repair, or other',\n",
    "             'Credit card': 'Credit card or prepaid card',\n",
    "             'Prepaid card': 'Credit card or prepaid card',\n",
    "             'Payday loan': 'Payday loan, title loan, or personal loan',\n",
    "             'Money transfer': 'Money transfer, virtual currency, or money service',\n",
    "             'Virtual currency': 'Money transfer, virtual currency, or money service'}},\n",
    "            inplace= True)\n",
    "# Convert company to uppercase\n",
    "df1['Company'] = df1['Company'].str.upper()\n",
    "# df1['category_id'] = df1['Product'].factorize()[0]\n",
    "# print(pd.DataFrame(df1['Company'].unique()).values)"
   ]
  },
  {
   "cell_type": "code",
   "execution_count": 6,
   "metadata": {
    "pycharm": {
     "name": "#%%\n"
    }
   },
   "outputs": [],
   "source": [
    "# Vectorize company and consumer narrative\n",
    "# df1['Consumer complaint narrative'] = hero.tfidf(df1['Consumer complaint narrative'])\n",
    "# df1['Company'] = hero.tfidf(df1['Company'])"
   ]
  },
  {
   "cell_type": "code",
   "execution_count": 7,
   "metadata": {
    "pycharm": {
     "name": "#%%\n"
    }
   },
   "outputs": [
    {
     "data": {
      "text/html": [
       "<div>\n",
       "<style scoped>\n",
       "    .dataframe tbody tr th:only-of-type {\n",
       "        vertical-align: middle;\n",
       "    }\n",
       "\n",
       "    .dataframe tbody tr th {\n",
       "        vertical-align: top;\n",
       "    }\n",
       "\n",
       "    .dataframe thead th {\n",
       "        text-align: right;\n",
       "    }\n",
       "</style>\n",
       "<table border=\"1\" class=\"dataframe\">\n",
       "  <thead>\n",
       "    <tr style=\"text-align: right;\">\n",
       "      <th></th>\n",
       "      <th>Product</th>\n",
       "      <th>Consumer complaint narrative</th>\n",
       "      <th>Company</th>\n",
       "      <th>State</th>\n",
       "      <th>Tags</th>\n",
       "      <th>Submitted via</th>\n",
       "      <th>Timely response?</th>\n",
       "    </tr>\n",
       "  </thead>\n",
       "  <tbody>\n",
       "    <tr>\n",
       "      <th>31078</th>\n",
       "      <td>0.0</td>\n",
       "      <td>0.0</td>\n",
       "      <td>0.0</td>\n",
       "      <td>0.0</td>\n",
       "      <td>0.0</td>\n",
       "      <td>0.0</td>\n",
       "      <td>0.0</td>\n",
       "    </tr>\n",
       "    <tr>\n",
       "      <th>35401</th>\n",
       "      <td>0.0</td>\n",
       "      <td>1.0</td>\n",
       "      <td>0.0</td>\n",
       "      <td>1.0</td>\n",
       "      <td>0.0</td>\n",
       "      <td>0.0</td>\n",
       "      <td>0.0</td>\n",
       "    </tr>\n",
       "    <tr>\n",
       "      <th>36277</th>\n",
       "      <td>0.0</td>\n",
       "      <td>2.0</td>\n",
       "      <td>1.0</td>\n",
       "      <td>2.0</td>\n",
       "      <td>0.0</td>\n",
       "      <td>0.0</td>\n",
       "      <td>0.0</td>\n",
       "    </tr>\n",
       "    <tr>\n",
       "      <th>36566</th>\n",
       "      <td>0.0</td>\n",
       "      <td>3.0</td>\n",
       "      <td>0.0</td>\n",
       "      <td>2.0</td>\n",
       "      <td>0.0</td>\n",
       "      <td>0.0</td>\n",
       "      <td>0.0</td>\n",
       "    </tr>\n",
       "    <tr>\n",
       "      <th>36687</th>\n",
       "      <td>0.0</td>\n",
       "      <td>4.0</td>\n",
       "      <td>0.0</td>\n",
       "      <td>3.0</td>\n",
       "      <td>0.0</td>\n",
       "      <td>0.0</td>\n",
       "      <td>0.0</td>\n",
       "    </tr>\n",
       "  </tbody>\n",
       "</table>\n",
       "</div>"
      ],
      "text/plain": [
       "       Product  Consumer complaint narrative  Company  State  Tags  \\\n",
       "31078      0.0                           0.0      0.0    0.0   0.0   \n",
       "35401      0.0                           1.0      0.0    1.0   0.0   \n",
       "36277      0.0                           2.0      1.0    2.0   0.0   \n",
       "36566      0.0                           3.0      0.0    2.0   0.0   \n",
       "36687      0.0                           4.0      0.0    3.0   0.0   \n",
       "\n",
       "       Submitted via  Timely response?  \n",
       "31078            0.0               0.0  \n",
       "35401            0.0               0.0  \n",
       "36277            0.0               0.0  \n",
       "36566            0.0               0.0  \n",
       "36687            0.0               0.0  "
      ]
     },
     "execution_count": 7,
     "metadata": {},
     "output_type": "execute_result"
    }
   ],
   "source": [
    "# Factorize Products, state, tags, timely response\n",
    "df1['Product'] = df1['Product'].factorize()[0].astype(np.float32)\n",
    "df1['State'] = df1['State'].factorize()[0].astype(np.float32)\n",
    "df1['Tags'] = df1['Tags'].factorize()[0].astype(np.float32)\n",
    "df1['Tags'] = df1['Tags'].factorize()[0].astype(np.float32)\n",
    "df1['Submitted via'] = df1['Submitted via'].factorize()[0].astype(np.float32)\n",
    "df1['Timely response?'] = df1['Timely response?'].factorize()[0].astype(np.float32)\n",
    "df1['Company'] = df1['Company'].factorize()[0].astype(np.float32)\n",
    "df1['Consumer complaint narrative'] = df1['Consumer complaint narrative'].factorize()[0].astype(np.float32)\n",
    "df1.head()"
   ]
  },
  {
   "cell_type": "code",
   "execution_count": 8,
   "metadata": {
    "pycharm": {
     "name": "#%%\n"
    }
   },
   "outputs": [
    {
     "name": "stdout",
     "output_type": "stream",
     "text": [
      "[[0.0000e+00 0.0000e+00 0.0000e+00 0.0000e+00 0.0000e+00 0.0000e+00]\n",
      " [0.0000e+00 1.0000e+00 0.0000e+00 1.0000e+00 0.0000e+00 0.0000e+00]\n",
      " [0.0000e+00 2.0000e+00 1.0000e+00 2.0000e+00 0.0000e+00 0.0000e+00]\n",
      " ...\n",
      " [0.0000e+00 6.4240e+04 1.5000e+01 4.0000e+00 1.0000e+00 0.0000e+00]\n",
      " [2.0000e+00 6.4241e+04 1.4860e+03 5.0000e+00 1.0000e+00 0.0000e+00]\n",
      " [0.0000e+00 6.4242e+04 1.0000e+00 2.1000e+01 2.0000e+00 0.0000e+00]]\n"
     ]
    }
   ],
   "source": [
    "# Get independent variables\n",
    "x = df1.iloc[:, :-1].values\n",
    "# Get dependent variables\n",
    "y = df1.iloc[:, -1].values\n",
    "print(x)"
   ]
  },
  {
   "cell_type": "code",
   "execution_count": 9,
   "metadata": {
    "pycharm": {
     "name": "#%%\n"
    }
   },
   "outputs": [],
   "source": [
    "from sklearn.model_selection import train_test_split\n",
    "from sklearn.feature_extraction.text import CountVectorizer\n",
    "\n",
    "vectorizer = CountVectorizer()\n",
    "x_train, x_test, y_train, y_test = train_test_split(x, y, test_size=0.2)\n",
    "# vectorizer.fit(x_train.ravel())\n",
    "# x_train = vectorizer.transform(x_train)\n",
    "# x_test  = vectorizer.transform(x_test)"
   ]
  },
  {
   "cell_type": "code",
   "execution_count": 10,
   "metadata": {
    "pycharm": {
     "name": "#%%\n"
    }
   },
   "outputs": [
    {
     "name": "stdout",
     "output_type": "stream",
     "text": [
      "Model: \"sequential\"\n",
      "_________________________________________________________________\n",
      "Layer (type)                 Output Shape              Param #   \n",
      "=================================================================\n",
      "dense (Dense)                (None, 12)                84        \n",
      "_________________________________________________________________\n",
      "dense_1 (Dense)              (None, 8)                 104       \n",
      "_________________________________________________________________\n",
      "dense_2 (Dense)              (None, 1)                 9         \n",
      "=================================================================\n",
      "Total params: 197\n",
      "Trainable params: 197\n",
      "Non-trainable params: 0\n",
      "_________________________________________________________________\n",
      "None\n"
     ]
    }
   ],
   "source": [
    "from keras.models import Sequential\n",
    "from keras.layers import Dense\n",
    "from keras.backend import clear_session\n",
    "\n",
    "\n",
    "\n",
    "input_dim = x_train.shape[1]\n",
    "# Define the keras model\n",
    "model = Sequential()\n",
    "model.add(Dense(12, input_dim=input_dim, activation='relu'))\n",
    "model.add(Dense(8, activation='relu'))\n",
    "model.add(Dense(1, activation='sigmoid'))\n",
    "\n",
    "print(model.summary())"
   ]
  },
  {
   "cell_type": "code",
   "execution_count": 11,
   "metadata": {
    "pycharm": {
     "name": "#%%\n"
    }
   },
   "outputs": [],
   "source": [
    "# Compile or execute model\n",
    "model.compile(loss='binary_crossentropy', optimizer='adam', metrics=['accuracy'])\n"
   ]
  },
  {
   "cell_type": "code",
   "execution_count": 12,
   "metadata": {
    "pycharm": {
     "name": "#%%\n"
    }
   },
   "outputs": [
    {
     "name": "stdout",
     "output_type": "stream",
     "text": [
      "Training results\n",
      "Epoch 1/100\n",
      "5284/5284 [==============================] - 5s 1ms/step - loss: 4.9379 - accuracy: 0.9382\n",
      "Epoch 2/100\n",
      "5284/5284 [==============================] - 4s 737us/step - loss: 1.9028 - accuracy: 0.9446\n",
      "Epoch 3/100\n",
      "5284/5284 [==============================] - 4s 707us/step - loss: 1.3739 - accuracy: 0.9468\n",
      "Epoch 4/100\n",
      "5284/5284 [==============================] - 4s 724us/step - loss: 0.9392 - accuracy: 0.9500\n",
      "Epoch 5/100\n",
      "5284/5284 [==============================] - 4s 718us/step - loss: 0.6155 - accuracy: 0.9534\n",
      "Epoch 6/100\n",
      "5284/5284 [==============================] - 5s 864us/step - loss: 0.3324 - accuracy: 0.9614\n",
      "Epoch 7/100\n",
      "5284/5284 [==============================] - 4s 776us/step - loss: 0.1644 - accuracy: 0.9686\n",
      "Epoch 8/100\n",
      "5284/5284 [==============================] - 4s 718us/step - loss: 0.1344 - accuracy: 0.9705\n",
      "Epoch 9/100\n",
      "5284/5284 [==============================] - 4s 700us/step - loss: 0.1431 - accuracy: 0.9711\n",
      "Epoch 10/100\n",
      "5284/5284 [==============================] - 4s 712us/step - loss: 0.1309 - accuracy: 0.9711\n",
      "Epoch 11/100\n",
      "5284/5284 [==============================] - 4s 757us/step - loss: 0.1420 - accuracy: 0.9711\n",
      "Epoch 12/100\n",
      "5284/5284 [==============================] - 4s 735us/step - loss: 0.1309 - accuracy: 0.9711\n",
      "Epoch 13/100\n",
      "5284/5284 [==============================] - 4s 745us/step - loss: 0.1398 - accuracy: 0.9711\n",
      "Epoch 14/100\n",
      "5284/5284 [==============================] - 4s 724us/step - loss: 0.1310 - accuracy: 0.9711\n",
      "Epoch 15/100\n",
      "5284/5284 [==============================] - 4s 703us/step - loss: 0.1318 - accuracy: 0.9711\n",
      "Epoch 16/100\n",
      "5284/5284 [==============================] - 4s 691us/step - loss: 0.1315 - accuracy: 0.9711\n",
      "Epoch 17/100\n",
      "5284/5284 [==============================] - 4s 704us/step - loss: 0.1309 - accuracy: 0.9711\n",
      "Epoch 18/100\n",
      "5284/5284 [==============================] - 4s 701us/step - loss: 0.1319 - accuracy: 0.9711\n",
      "Epoch 19/100\n",
      "5284/5284 [==============================] - 4s 722us/step - loss: 0.1313 - accuracy: 0.9711\n",
      "Epoch 20/100\n",
      "5284/5284 [==============================] - 4s 734us/step - loss: 0.1313 - accuracy: 0.9711\n",
      "Epoch 21/100\n",
      "5284/5284 [==============================] - 4s 702us/step - loss: 0.1310 - accuracy: 0.9711\n",
      "Epoch 22/100\n",
      "5284/5284 [==============================] - 4s 709us/step - loss: 0.1311 - accuracy: 0.9711\n",
      "Epoch 23/100\n",
      "5284/5284 [==============================] - 4s 713us/step - loss: 0.1318 - accuracy: 0.9707\n",
      "Epoch 24/100\n",
      "5284/5284 [==============================] - 4s 700us/step - loss: 0.1311 - accuracy: 0.9711\n",
      "Epoch 25/100\n",
      "5284/5284 [==============================] - 4s 716us/step - loss: 0.1320 - accuracy: 0.9711\n",
      "Epoch 26/100\n",
      "5284/5284 [==============================] - 4s 717us/step - loss: 0.1310 - accuracy: 0.9710\n",
      "Epoch 27/100\n",
      "5284/5284 [==============================] - 4s 740us/step - loss: 0.1317 - accuracy: 0.9710\n",
      "Epoch 28/100\n",
      "5284/5284 [==============================] - 4s 745us/step - loss: 0.1308 - accuracy: 0.9711\n",
      "Epoch 29/100\n",
      "5284/5284 [==============================] - 4s 733us/step - loss: 0.1312 - accuracy: 0.9711\n",
      "Epoch 30/100\n",
      "5284/5284 [==============================] - 4s 779us/step - loss: 0.1311 - accuracy: 0.9711\n",
      "Epoch 31/100\n",
      "5284/5284 [==============================] - 4s 708us/step - loss: 0.1308 - accuracy: 0.9711\n",
      "Epoch 32/100\n",
      "5284/5284 [==============================] - 4s 705us/step - loss: 0.1319 - accuracy: 0.9711\n",
      "Epoch 33/100\n",
      "5284/5284 [==============================] - 4s 702us/step - loss: 0.1310 - accuracy: 0.9711\n",
      "Epoch 34/100\n",
      "5284/5284 [==============================] - 4s 714us/step - loss: 0.1310 - accuracy: 0.9711\n",
      "Epoch 35/100\n",
      "5284/5284 [==============================] - 4s 734us/step - loss: 0.1309 - accuracy: 0.9711\n",
      "Epoch 36/100\n",
      "5284/5284 [==============================] - 4s 718us/step - loss: 0.1313 - accuracy: 0.9711\n",
      "Epoch 37/100\n",
      "5284/5284 [==============================] - 4s 819us/step - loss: 0.1309 - accuracy: 0.9711\n",
      "Epoch 38/100\n",
      "5284/5284 [==============================] - 4s 785us/step - loss: 0.1311 - accuracy: 0.9711\n",
      "Epoch 39/100\n",
      "5284/5284 [==============================] - 4s 729us/step - loss: 0.1310 - accuracy: 0.9711\n",
      "Epoch 40/100\n",
      "5284/5284 [==============================] - 4s 777us/step - loss: 0.1307 - accuracy: 0.9711\n",
      "Epoch 41/100\n",
      "5284/5284 [==============================] - 4s 688us/step - loss: 0.1308 - accuracy: 0.9711\n",
      "Epoch 42/100\n",
      "5284/5284 [==============================] - 4s 700us/step - loss: 0.1312 - accuracy: 0.9711\n",
      "Epoch 43/100\n",
      "5284/5284 [==============================] - 4s 706us/step - loss: 0.1309 - accuracy: 0.9711\n",
      "Epoch 44/100\n",
      "5284/5284 [==============================] - 4s 717us/step - loss: 0.1310 - accuracy: 0.9711\n",
      "Epoch 45/100\n",
      "5284/5284 [==============================] - 4s 710us/step - loss: 0.1307 - accuracy: 0.9711\n",
      "Epoch 46/100\n",
      "5284/5284 [==============================] - 4s 713us/step - loss: 0.1309 - accuracy: 0.9711\n",
      "Epoch 47/100\n",
      "5284/5284 [==============================] - 4s 736us/step - loss: 0.1308 - accuracy: 0.9711\n",
      "Epoch 48/100\n",
      "5284/5284 [==============================] - 4s 720us/step - loss: 0.1310 - accuracy: 0.9711\n",
      "Epoch 49/100\n",
      "5284/5284 [==============================] - 4s 717us/step - loss: 0.1314 - accuracy: 0.9711\n",
      "Epoch 50/100\n",
      "5284/5284 [==============================] - 4s 802us/step - loss: 0.1307 - accuracy: 0.97110s - loss: 0.1304 - ac\n",
      "Epoch 51/100\n",
      "5284/5284 [==============================] - 4s 780us/step - loss: 0.1309 - accuracy: 0.9711\n",
      "Epoch 52/100\n",
      "5284/5284 [==============================] - 4s 696us/step - loss: 0.1306 - accuracy: 0.9710\n",
      "Epoch 53/100\n",
      "5284/5284 [==============================] - 4s 715us/step - loss: 0.1186 - accuracy: 0.9702\n",
      "Epoch 54/100\n",
      "5284/5284 [==============================] - 4s 699us/step - loss: 0.1146 - accuracy: 0.9700\n",
      "Epoch 55/100\n",
      "5284/5284 [==============================] - 4s 701us/step - loss: 0.1148 - accuracy: 0.9700\n",
      "Epoch 56/100\n",
      "5284/5284 [==============================] - 4s 705us/step - loss: 0.1183 - accuracy: 0.9706\n",
      "Epoch 57/100\n",
      "5284/5284 [==============================] - 4s 712us/step - loss: 0.1202 - accuracy: 0.9706\n",
      "Epoch 58/100\n",
      "5284/5284 [==============================] - 4s 718us/step - loss: 0.1216 - accuracy: 0.9707\n",
      "Epoch 59/100\n",
      "5284/5284 [==============================] - 4s 713us/step - loss: 0.1220 - accuracy: 0.9707\n",
      "Epoch 60/100\n",
      "5284/5284 [==============================] - 4s 738us/step - loss: 0.1138 - accuracy: 0.9706\n",
      "Epoch 61/100\n",
      "5284/5284 [==============================] - 4s 714us/step - loss: 0.1163 - accuracy: 0.9702\n",
      "Epoch 62/100\n",
      "5284/5284 [==============================] - 4s 719us/step - loss: 0.1187 - accuracy: 0.9703\n",
      "Epoch 63/100\n",
      "5284/5284 [==============================] - 4s 720us/step - loss: 0.1142 - accuracy: 0.9702\n",
      "Epoch 64/100\n",
      "5284/5284 [==============================] - 4s 707us/step - loss: 0.1140 - accuracy: 0.9701\n",
      "Epoch 65/100\n",
      "5284/5284 [==============================] - 4s 719us/step - loss: 0.1138 - accuracy: 0.9703\n",
      "Epoch 66/100\n",
      "5284/5284 [==============================] - 4s 743us/step - loss: 0.1135 - accuracy: 0.9703\n",
      "Epoch 67/100\n",
      "5284/5284 [==============================] - 4s 710us/step - loss: 0.1131 - accuracy: 0.9704\n",
      "Epoch 68/100\n",
      "5284/5284 [==============================] - 4s 810us/step - loss: 0.1127 - accuracy: 0.97060s - loss: 0.1118 - ac\n",
      "Epoch 69/100\n",
      "5284/5284 [==============================] - 4s 760us/step - loss: 0.1137 - accuracy: 0.9706\n",
      "Epoch 70/100\n",
      "5284/5284 [==============================] - 4s 702us/step - loss: 0.1125 - accuracy: 0.9707\n",
      "Epoch 71/100\n",
      "5284/5284 [==============================] - 4s 710us/step - loss: 0.1159 - accuracy: 0.9709\n",
      "Epoch 72/100\n",
      "5284/5284 [==============================] - 4s 714us/step - loss: 0.1174 - accuracy: 0.9709\n",
      "Epoch 73/100\n",
      "5284/5284 [==============================] - 4s 730us/step - loss: 0.1128 - accuracy: 0.9708\n",
      "Epoch 74/100\n",
      "5284/5284 [==============================] - 4s 729us/step - loss: 0.1133 - accuracy: 0.9708\n",
      "Epoch 75/100\n",
      "5284/5284 [==============================] - 4s 708us/step - loss: 0.1128 - accuracy: 0.9707\n",
      "Epoch 76/100\n",
      "5284/5284 [==============================] - 4s 704us/step - loss: 0.1124 - accuracy: 0.9706\n",
      "Epoch 77/100\n"
     ]
    },
    {
     "name": "stdout",
     "output_type": "stream",
     "text": [
      "5284/5284 [==============================] - 4s 717us/step - loss: 0.1217 - accuracy: 0.9709\n",
      "Epoch 78/100\n",
      "5284/5284 [==============================] - 4s 669us/step - loss: 0.1129 - accuracy: 0.9708\n",
      "Epoch 79/100\n",
      "5284/5284 [==============================] - 4s 671us/step - loss: 0.1200 - accuracy: 0.9710\n",
      "Epoch 80/100\n",
      "5284/5284 [==============================] - 4s 671us/step - loss: 0.1148 - accuracy: 0.9708\n",
      "Epoch 81/100\n",
      "5284/5284 [==============================] - 4s 717us/step - loss: 0.1119 - accuracy: 0.9708\n",
      "Epoch 82/100\n",
      "5284/5284 [==============================] - 4s 842us/step - loss: 0.1157 - accuracy: 0.9707\n",
      "Epoch 83/100\n",
      "5284/5284 [==============================] - 4s 696us/step - loss: 0.1119 - accuracy: 0.9709\n",
      "Epoch 84/100\n",
      "5284/5284 [==============================] - 4s 710us/step - loss: 0.1119 - accuracy: 0.9708\n",
      "Epoch 85/100\n",
      "5284/5284 [==============================] - 4s 803us/step - loss: 0.1140 - accuracy: 0.9704\n",
      "Epoch 86/100\n",
      "5284/5284 [==============================] - 5s 912us/step - loss: 0.1128 - accuracy: 0.97070s - l\n",
      "Epoch 87/100\n",
      "5284/5284 [==============================] - 5s 886us/step - loss: 0.1121 - accuracy: 0.9707\n",
      "Epoch 88/100\n",
      "5284/5284 [==============================] - 4s 670us/step - loss: 0.1116 - accuracy: 0.9708\n",
      "Epoch 89/100\n",
      "5284/5284 [==============================] - 3s 650us/step - loss: 0.1116 - accuracy: 0.9708\n",
      "Epoch 90/100\n",
      "5284/5284 [==============================] - 4s 682us/step - loss: 0.1126 - accuracy: 0.9708\n",
      "Epoch 91/100\n",
      "5284/5284 [==============================] - 3s 654us/step - loss: 0.1180 - accuracy: 0.9708\n",
      "Epoch 92/100\n",
      "5284/5284 [==============================] - 5s 947us/step - loss: 0.1175 - accuracy: 0.97100s - loss: 0.1\n",
      "Epoch 93/100\n",
      "5284/5284 [==============================] - 6s 1ms/step - loss: 0.1120 - accuracy: 0.9709\n",
      "Epoch 94/100\n",
      "5284/5284 [==============================] - 4s 823us/step - loss: 0.1144 - accuracy: 0.97090s\n",
      "Epoch 95/100\n",
      "5284/5284 [==============================] - 4s 683us/step - loss: 0.1172 - accuracy: 0.9711\n",
      "Epoch 96/100\n",
      "5284/5284 [==============================] - 3s 643us/step - loss: 0.1133 - accuracy: 0.9709\n",
      "Epoch 97/100\n",
      "5284/5284 [==============================] - 3s 659us/step - loss: 0.1166 - accuracy: 0.9708\n",
      "Epoch 98/100\n",
      "5284/5284 [==============================] - 3s 645us/step - loss: 0.1154 - accuracy: 0.9711\n",
      "Epoch 99/100\n",
      "5284/5284 [==============================] - 4s 735us/step - loss: 0.1140 - accuracy: 0.9711\n",
      "Epoch 100/100\n",
      "5284/5284 [==============================] - 5s 946us/step - loss: 0.1161 - accuracy: 0.9711\n"
     ]
    }
   ],
   "source": [
    "# Train model on training sample\n",
    "print('Training results')\n",
    "# Clear previous\n",
    "clear_session()\n",
    "trained_model = model.fit(x_train, y_train, epochs=100, batch_size=10)"
   ]
  },
  {
   "cell_type": "code",
   "execution_count": 13,
   "metadata": {
    "pycharm": {
     "name": "#%%\n"
    }
   },
   "outputs": [
    {
     "name": "stdout",
     "output_type": "stream",
     "text": [
      "Training Accuracy: 0.9711\n",
      "Testing Accuracy:  0.9743\n"
     ]
    }
   ],
   "source": [
    "loss, accuracy = model.evaluate(x_train, y_train, verbose=False)\n",
    "print(\"Training Accuracy: {:.4f}\".format(accuracy))\n",
    "\n",
    "loss, accuracy = model.evaluate(x_test, y_test, verbose=False)\n",
    "print(\"Testing Accuracy:  {:.4f}\".format(accuracy))"
   ]
  },
  {
   "cell_type": "code",
   "execution_count": 14,
   "metadata": {
    "pycharm": {
     "name": "#%%\n"
    }
   },
   "outputs": [],
   "source": [
    "from ann_visualizer.visualize import ann_viz\n",
    "ann_viz(model, view=True, filename='network.gv', title='Neural Network')"
   ]
  }
 ],
 "metadata": {
  "kernelspec": {
   "display_name": "Python 3",
   "language": "python",
   "name": "python3"
  },
  "language_info": {
   "codemirror_mode": {
    "name": "ipython",
    "version": 3
   },
   "file_extension": ".py",
   "mimetype": "text/x-python",
   "name": "python",
   "nbconvert_exporter": "python",
   "pygments_lexer": "ipython3",
   "version": "3.8.8"
  }
 },
 "nbformat": 4,
 "nbformat_minor": 1
}
